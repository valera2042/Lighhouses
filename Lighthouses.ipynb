{
 "cells": [
  {
   "cell_type": "markdown",
   "metadata": {},
   "source": [
    "# Lighthouses\n",
    "\n",
    "Project plan:\n",
    "1. Data Acquisition\n",
    "a) get 4 different datasets\n",
    "b) join them together\n",
    "2. Data Cleaning"
   ]
  },
  {
   "cell_type": "code",
   "execution_count": 319,
   "metadata": {},
   "outputs": [],
   "source": [
    "# import libraries\n",
    "import time\n",
    "import pandas as pd # library for data analysis\n",
    "import requests # library to handle requests\n",
    "from bs4 import BeautifulSoup # library to parse HTML documents"
   ]
  },
  {
   "cell_type": "code",
   "execution_count": 320,
   "metadata": {},
   "outputs": [],
   "source": [
    "# urls to scrape\n",
    "urls_to_scrape = [\n",
    "    \n",
    "    'https://en.wikipedia.org/wiki/List_of_lighthouses_in_England',\n",
    "    'https://en.wikipedia.org/wiki/List_of_lighthouses_in_Wales',\n",
    "    'https://en.wikipedia.org/wiki/List_of_lighthouses_in_Scotland',\n",
    "    'https://en.wikipedia.org/wiki/List_of_lighthouses_in_Ireland'\n",
    "]"
   ]
  },
  {
   "cell_type": "code",
   "execution_count": 321,
   "metadata": {},
   "outputs": [],
   "source": [
    "# dict for dataframes storage\n",
    "d = {}\n",
    "for i in range(3):\n",
    "    d[i] = pd.DataFrame()"
   ]
  },
  {
   "cell_type": "code",
   "execution_count": 322,
   "metadata": {},
   "outputs": [
    {
     "name": "stdout",
     "output_type": "stream",
     "text": [
      "status is 200 for dataframe 0\n",
      "status is 200 for dataframe 1\n",
      "status is 200 for dataframe 2\n",
      "status is 200 for dataframe 3\n"
     ]
    }
   ],
   "source": [
    "def get_data(urls_to_scrape):\n",
    "    \"\"\"\n",
    "    iterates across urls provided, prints response for each iteration, \n",
    "    scrapes the wikitable, stores results in the dict\n",
    "    \"\"\"\n",
    "    i = 0\n",
    "    for url in urls_to_scrape:\n",
    "\n",
    "        time.sleep(4)\n",
    "\n",
    "        # get the response in the form of html\n",
    "        wikiurl= url\n",
    "        table_class=\"wikitable sortable jquery-tablesorter\"\n",
    "        response=requests.get(wikiurl)\n",
    "        print('status is', response.status_code, 'for dataframe', i)\n",
    "\n",
    "        soup = BeautifulSoup(response.text, 'html.parser')\n",
    "        indiatable=soup.find('table',{'class':\"wikitable\"})\n",
    "\n",
    "        df=pd.read_html(str(indiatable))\n",
    "        d[i] =pd.DataFrame(df[0])\n",
    "        i += 1\n",
    "    return d\n",
    " \n",
    "d = get_data(urls_to_scrape)"
   ]
  },
  {
   "cell_type": "code",
   "execution_count": 323,
   "metadata": {},
   "outputs": [
    {
     "name": "stdout",
     "output_type": "stream",
     "text": [
      "Index(['Lighthouse', 'Image', 'Location & coordinates', 'County', 'Year built',\n",
      "       'Tower height', 'Focal height', 'Range', 'Operator', 'NGA number'],\n",
      "      dtype='object')\n",
      "Index(['Lighthouse', 'Image', 'Location', 'Year built', 'Tower height',\n",
      "       'Focal height', 'Range'],\n",
      "      dtype='object')\n",
      "Index(['Name', 'Image', 'Area coordinates', 'Island / mainland', 'Year built',\n",
      "       'Designed / built by', 'Operated by / closed', 'Tower height',\n",
      "       'Focal height', 'Range'],\n",
      "      dtype='object')\n",
      "Index(['Name', 'Image', 'Location Coordinates', 'County', 'Water body',\n",
      "       'Year built', 'Tower height', 'Focal height', 'Range'],\n",
      "      dtype='object')\n"
     ]
    }
   ],
   "source": [
    "def get_columns(d):\n",
    "    \"\"\"\n",
    "    get columns for each dataset\n",
    "    \"\"\"\n",
    "    for i in range(4):\n",
    "        print(d[i].columns)\n",
    "        \n",
    "get_columns(d)"
   ]
  },
  {
   "cell_type": "markdown",
   "metadata": {},
   "source": [
    "the common columns are:\n",
    "1. Lighthouse name\n",
    "2. Location/coordinates\n",
    "3. County/location\n",
    "4. Year built\n",
    "5. Tower height\n",
    "6. Local height\n",
    "7. Range"
   ]
  },
  {
   "cell_type": "code",
   "execution_count": 324,
   "metadata": {},
   "outputs": [],
   "source": [
    "# get a specific column from each dataframe\n",
    "columns_to_keep = ['Name', 'Lighthouse', 'Location & coordinates', 'Year built',\n",
    "                   'Tower height', 'Focal height', 'Range',  'Location', 'Area coordinates', \n",
    "                  'Tower height','Focal height', 'Location Coordinates']"
   ]
  },
  {
   "cell_type": "code",
   "execution_count": 325,
   "metadata": {},
   "outputs": [],
   "source": [
    "def rename_columns(d):\n",
    "    \"\"\"\n",
    "    iterate across dfs in dict, \n",
    "    delete column in it is not in columns_to_keep\n",
    "    \"\"\"\n",
    "    for i in range(4):\n",
    "        for col in d[i].columns:\n",
    "            try:\n",
    "                if col not in columns_to_keep:\n",
    "                    d[i].drop(col, axis = 1, inplace = True)\n",
    "            except:\n",
    "                pass\n",
    "    return d\n",
    "\n",
    "d = rename_columns(d)"
   ]
  },
  {
   "cell_type": "code",
   "execution_count": 326,
   "metadata": {},
   "outputs": [
    {
     "name": "stdout",
     "output_type": "stream",
     "text": [
      "Index(['Lighthouse', 'Location & coordinates', 'Year built', 'Tower height',\n",
      "       'Focal height', 'Range'],\n",
      "      dtype='object')\n",
      "6\n",
      "Index(['Lighthouse', 'Location', 'Year built', 'Tower height', 'Focal height',\n",
      "       'Range'],\n",
      "      dtype='object')\n",
      "6\n",
      "Index(['Name', 'Area coordinates', 'Year built', 'Tower height',\n",
      "       'Focal height', 'Range'],\n",
      "      dtype='object')\n",
      "6\n",
      "Index(['Name', 'Location Coordinates', 'Year built', 'Tower height',\n",
      "       'Focal height', 'Range'],\n",
      "      dtype='object')\n",
      "6\n"
     ]
    }
   ],
   "source": [
    "def check_len_name(d):\n",
    "    \"\"\"\n",
    "    check columns length and name\n",
    "    \"\"\"\n",
    "    for i in range(4):\n",
    "        print(d[i].columns)\n",
    "        print(len(d[i].columns))\n",
    "        \n",
    "check_len_name(d)        "
   ]
  },
  {
   "cell_type": "markdown",
   "metadata": {},
   "source": [
    "Before joining dataframes we need to assure that they have the same columns"
   ]
  },
  {
   "cell_type": "code",
   "execution_count": 327,
   "metadata": {},
   "outputs": [],
   "source": [
    "def assign_unified_columns(d):\n",
    "    \"\"\"\n",
    "    assure that each df has the same columns names\n",
    "    \"\"\"\n",
    "    for i in range(4):\n",
    "        d[i].columns = ['Name', 'Area_Coordinates', 'Year', 'Tower_height', 'Focal_height', 'Range']\n",
    "    return d\n",
    "\n",
    "d = assign_unified_columns(d)"
   ]
  },
  {
   "cell_type": "code",
   "execution_count": 328,
   "metadata": {},
   "outputs": [
    {
     "name": "stdout",
     "output_type": "stream",
     "text": [
      "Index(['Name', 'Area_Coordinates', 'Year', 'Tower_height', 'Focal_height',\n",
      "       'Range'],\n",
      "      dtype='object')\n",
      "6\n",
      "Index(['Name', 'Area_Coordinates', 'Year', 'Tower_height', 'Focal_height',\n",
      "       'Range'],\n",
      "      dtype='object')\n",
      "6\n",
      "Index(['Name', 'Area_Coordinates', 'Year', 'Tower_height', 'Focal_height',\n",
      "       'Range'],\n",
      "      dtype='object')\n",
      "6\n",
      "Index(['Name', 'Area_Coordinates', 'Year', 'Tower_height', 'Focal_height',\n",
      "       'Range'],\n",
      "      dtype='object')\n",
      "6\n"
     ]
    }
   ],
   "source": [
    "check_len_name(d)"
   ]
  },
  {
   "cell_type": "code",
   "execution_count": 329,
   "metadata": {},
   "outputs": [],
   "source": [
    "def join_dfs(d):\n",
    "    \"\"\"\n",
    "    append dfs to list (df_to_append),\n",
    "    concat dfs in that list\n",
    "    \"\"\"\n",
    "    df_to_append = []\n",
    "    for i in range(4):\n",
    "\n",
    "        df_to_append.append(d[i])\n",
    "\n",
    "    df_final = pd.concat(df_to_append)\n",
    "    return df_final\n",
    "\n",
    "df_final = join_dfs(d)"
   ]
  },
  {
   "cell_type": "code",
   "execution_count": 330,
   "metadata": {},
   "outputs": [
    {
     "data": {
      "text/html": [
       "<div>\n",
       "<style scoped>\n",
       "    .dataframe tbody tr th:only-of-type {\n",
       "        vertical-align: middle;\n",
       "    }\n",
       "\n",
       "    .dataframe tbody tr th {\n",
       "        vertical-align: top;\n",
       "    }\n",
       "\n",
       "    .dataframe thead th {\n",
       "        text-align: right;\n",
       "    }\n",
       "</style>\n",
       "<table border=\"1\" class=\"dataframe\">\n",
       "  <thead>\n",
       "    <tr style=\"text-align: right;\">\n",
       "      <th></th>\n",
       "      <th>Name</th>\n",
       "      <th>Area_Coordinates</th>\n",
       "      <th>Year</th>\n",
       "      <th>Tower_height</th>\n",
       "      <th>Focal_height</th>\n",
       "      <th>Range</th>\n",
       "    </tr>\n",
       "  </thead>\n",
       "  <tbody>\n",
       "    <tr>\n",
       "      <th>0</th>\n",
       "      <td>Anvil Point Lighthouse</td>\n",
       "      <td>Anvil Point50°35′31″N 1°57′36″W</td>\n",
       "      <td>1881</td>\n",
       "      <td>12 m (39 ft)</td>\n",
       "      <td>45 m (148 ft)</td>\n",
       "      <td>9 nmi (17 km; 10 mi)</td>\n",
       "    </tr>\n",
       "    <tr>\n",
       "      <th>1</th>\n",
       "      <td>Bamburgh Lighthouse</td>\n",
       "      <td>Bamburgh55°37′0″N 1°43′27″W</td>\n",
       "      <td>1910[10]</td>\n",
       "      <td>9 m (30 ft)[10]</td>\n",
       "      <td>12 m (39 ft)[11]</td>\n",
       "      <td>14 nmi (26 km; 16 mi)[11] (white), 11 nmi (20 ...</td>\n",
       "    </tr>\n",
       "    <tr>\n",
       "      <th>2</th>\n",
       "      <td>Beachy Head Lighthouse</td>\n",
       "      <td>Beachy Head50°44′2″N 0°14′29″E[12]</td>\n",
       "      <td>1902</td>\n",
       "      <td>43 m (141 ft)</td>\n",
       "      <td>31 m (102 ft)[13]</td>\n",
       "      <td>8 nmi (15 km; 9.2 mi)[13]</td>\n",
       "    </tr>\n",
       "    <tr>\n",
       "      <th>3</th>\n",
       "      <td>Berkeley Pill Front light</td>\n",
       "      <td>Severn Estuary51°41′59″N 2°29′24″W</td>\n",
       "      <td>1937</td>\n",
       "      <td>8 m (26 ft)</td>\n",
       "      <td>5 m (16 ft)</td>\n",
       "      <td>NaN</td>\n",
       "    </tr>\n",
       "    <tr>\n",
       "      <th>4</th>\n",
       "      <td>Berkeley Pill Rear light</td>\n",
       "      <td>Severn Estuary51°41′54″N 2°29′25″W</td>\n",
       "      <td>1937</td>\n",
       "      <td>12 m (39 ft)</td>\n",
       "      <td>11 m (36 ft)</td>\n",
       "      <td>NaN</td>\n",
       "    </tr>\n",
       "  </tbody>\n",
       "</table>\n",
       "</div>"
      ],
      "text/plain": [
       "                        Name                    Area_Coordinates      Year  \\\n",
       "0     Anvil Point Lighthouse     Anvil Point50°35′31″N 1°57′36″W      1881   \n",
       "1        Bamburgh Lighthouse         Bamburgh55°37′0″N 1°43′27″W  1910[10]   \n",
       "2     Beachy Head Lighthouse  Beachy Head50°44′2″N 0°14′29″E[12]      1902   \n",
       "3  Berkeley Pill Front light  Severn Estuary51°41′59″N 2°29′24″W      1937   \n",
       "4   Berkeley Pill Rear light  Severn Estuary51°41′54″N 2°29′25″W      1937   \n",
       "\n",
       "      Tower_height       Focal_height  \\\n",
       "0     12 m (39 ft)      45 m (148 ft)   \n",
       "1  9 m (30 ft)[10]   12 m (39 ft)[11]   \n",
       "2    43 m (141 ft)  31 m (102 ft)[13]   \n",
       "3      8 m (26 ft)        5 m (16 ft)   \n",
       "4     12 m (39 ft)       11 m (36 ft)   \n",
       "\n",
       "                                               Range  \n",
       "0                               9 nmi (17 km; 10 mi)  \n",
       "1  14 nmi (26 km; 16 mi)[11] (white), 11 nmi (20 ...  \n",
       "2                          8 nmi (15 km; 9.2 mi)[13]  \n",
       "3                                                NaN  \n",
       "4                                                NaN  "
      ]
     },
     "execution_count": 330,
     "metadata": {},
     "output_type": "execute_result"
    }
   ],
   "source": [
    "df_final.head()"
   ]
  },
  {
   "cell_type": "markdown",
   "metadata": {},
   "source": [
    "# Data Cleaning"
   ]
  },
  {
   "cell_type": "markdown",
   "metadata": {},
   "source": [
    "Plan for data cleaning:\n",
    "1. Delete the word lighthouse from the 1st column\n",
    "2. Create two columns with names Coordinates and Location from the 2nd column\n",
    "3. Column Year must habe only year values, if there are two years (/) get the 2nd one\n",
    "4. From the columns Tower_height and Focal_height get only values that correspond to meters not foots, convert to int\n",
    "5. From the column Range get only values with km, convert to int\n",
    "6. Clean the created coordinates column from anything except coordinates"
   ]
  },
  {
   "cell_type": "markdown",
   "metadata": {},
   "source": [
    "1. Delete the word lighthouse from the 1st column"
   ]
  },
  {
   "cell_type": "code",
   "execution_count": 331,
   "metadata": {},
   "outputs": [
    {
     "data": {
      "text/html": [
       "<div>\n",
       "<style scoped>\n",
       "    .dataframe tbody tr th:only-of-type {\n",
       "        vertical-align: middle;\n",
       "    }\n",
       "\n",
       "    .dataframe tbody tr th {\n",
       "        vertical-align: top;\n",
       "    }\n",
       "\n",
       "    .dataframe thead th {\n",
       "        text-align: right;\n",
       "    }\n",
       "</style>\n",
       "<table border=\"1\" class=\"dataframe\">\n",
       "  <thead>\n",
       "    <tr style=\"text-align: right;\">\n",
       "      <th></th>\n",
       "      <th>Name</th>\n",
       "      <th>Area_Coordinates</th>\n",
       "      <th>Year</th>\n",
       "      <th>Tower_height</th>\n",
       "      <th>Focal_height</th>\n",
       "      <th>Range</th>\n",
       "    </tr>\n",
       "  </thead>\n",
       "  <tbody>\n",
       "    <tr>\n",
       "      <th>0</th>\n",
       "      <td>Anvil Point Lighthouse</td>\n",
       "      <td>Anvil Point50°35′31″N 1°57′36″W</td>\n",
       "      <td>1881</td>\n",
       "      <td>12 m (39 ft)</td>\n",
       "      <td>45 m (148 ft)</td>\n",
       "      <td>9 nmi (17 km; 10 mi)</td>\n",
       "    </tr>\n",
       "    <tr>\n",
       "      <th>1</th>\n",
       "      <td>Bamburgh Lighthouse</td>\n",
       "      <td>Bamburgh55°37′0″N 1°43′27″W</td>\n",
       "      <td>1910[10]</td>\n",
       "      <td>9 m (30 ft)[10]</td>\n",
       "      <td>12 m (39 ft)[11]</td>\n",
       "      <td>14 nmi (26 km; 16 mi)[11] (white), 11 nmi (20 ...</td>\n",
       "    </tr>\n",
       "    <tr>\n",
       "      <th>2</th>\n",
       "      <td>Beachy Head Lighthouse</td>\n",
       "      <td>Beachy Head50°44′2″N 0°14′29″E[12]</td>\n",
       "      <td>1902</td>\n",
       "      <td>43 m (141 ft)</td>\n",
       "      <td>31 m (102 ft)[13]</td>\n",
       "      <td>8 nmi (15 km; 9.2 mi)[13]</td>\n",
       "    </tr>\n",
       "    <tr>\n",
       "      <th>3</th>\n",
       "      <td>Berkeley Pill Front light</td>\n",
       "      <td>Severn Estuary51°41′59″N 2°29′24″W</td>\n",
       "      <td>1937</td>\n",
       "      <td>8 m (26 ft)</td>\n",
       "      <td>5 m (16 ft)</td>\n",
       "      <td>NaN</td>\n",
       "    </tr>\n",
       "    <tr>\n",
       "      <th>4</th>\n",
       "      <td>Berkeley Pill Rear light</td>\n",
       "      <td>Severn Estuary51°41′54″N 2°29′25″W</td>\n",
       "      <td>1937</td>\n",
       "      <td>12 m (39 ft)</td>\n",
       "      <td>11 m (36 ft)</td>\n",
       "      <td>NaN</td>\n",
       "    </tr>\n",
       "  </tbody>\n",
       "</table>\n",
       "</div>"
      ],
      "text/plain": [
       "                        Name                    Area_Coordinates      Year  \\\n",
       "0     Anvil Point Lighthouse     Anvil Point50°35′31″N 1°57′36″W      1881   \n",
       "1        Bamburgh Lighthouse         Bamburgh55°37′0″N 1°43′27″W  1910[10]   \n",
       "2     Beachy Head Lighthouse  Beachy Head50°44′2″N 0°14′29″E[12]      1902   \n",
       "3  Berkeley Pill Front light  Severn Estuary51°41′59″N 2°29′24″W      1937   \n",
       "4   Berkeley Pill Rear light  Severn Estuary51°41′54″N 2°29′25″W      1937   \n",
       "\n",
       "      Tower_height       Focal_height  \\\n",
       "0     12 m (39 ft)      45 m (148 ft)   \n",
       "1  9 m (30 ft)[10]   12 m (39 ft)[11]   \n",
       "2    43 m (141 ft)  31 m (102 ft)[13]   \n",
       "3      8 m (26 ft)        5 m (16 ft)   \n",
       "4     12 m (39 ft)       11 m (36 ft)   \n",
       "\n",
       "                                               Range  \n",
       "0                               9 nmi (17 km; 10 mi)  \n",
       "1  14 nmi (26 km; 16 mi)[11] (white), 11 nmi (20 ...  \n",
       "2                          8 nmi (15 km; 9.2 mi)[13]  \n",
       "3                                                NaN  \n",
       "4                                                NaN  "
      ]
     },
     "execution_count": 331,
     "metadata": {},
     "output_type": "execute_result"
    }
   ],
   "source": [
    "df_final.head()"
   ]
  },
  {
   "cell_type": "code",
   "execution_count": 332,
   "metadata": {},
   "outputs": [],
   "source": [
    "def replace_lighthouse(df_final):\n",
    "    \"\"\"\n",
    "    clean columns from Lighthouses\n",
    "    \"\"\"\n",
    "    df_final['Name'] = df_final['Name'].str.replace('Lighthouse', '')\n",
    "    return df_final\n",
    "\n",
    "df_final = replace_lighthouse(df_final)"
   ]
  },
  {
   "cell_type": "markdown",
   "metadata": {},
   "source": [
    "2. Create two columns with names Coordinates and Location from the 2nd column"
   ]
  },
  {
   "cell_type": "code",
   "execution_count": 333,
   "metadata": {},
   "outputs": [],
   "source": [
    "def split_columns(df_final):\n",
    "    \"\"\"\n",
    "    creates two columns: one with location, another one with coordinates\n",
    "    drop unnecessary column thereafter\n",
    "    \"\"\"\n",
    "    df_final['Location'] = df_final['Area_Coordinates'].str.extract('([a-zA-Z]+\\s?[a-zA-Z]+)', expand=True)\n",
    "    df_final['Coordinates'] = df_final['Area_Coordinates'].str.replace(r'[a-zA-Z]+\\s?[a-zA-Z]+', '')\n",
    "    df_final.drop('Area_Coordinates', axis = 1, inplace = True)\n",
    "    return df_final\n",
    "\n",
    "df_final = split_columns(df_final)"
   ]
  },
  {
   "cell_type": "markdown",
   "metadata": {},
   "source": [
    "3. The column Year must have only year values, if there are two years (/) get the 2nd one"
   ]
  },
  {
   "cell_type": "code",
   "execution_count": 334,
   "metadata": {},
   "outputs": [],
   "source": [
    "def get_year(x):\n",
    "    \"\"\"\n",
    "    one there is the 2nd year value, get iy\n",
    "    \"\"\"\n",
    "    try:\n",
    "        x = x.split('/')[1]\n",
    "    except:\n",
    "        pass\n",
    "    return x\n",
    "\n",
    "\n",
    "df_final['Year'] = df_final['Year'].apply(lambda x: get_year(x))\n",
    "\n",
    "\n",
    "def get_4_digit_year(df_final):\n",
    "    \"\"\"\n",
    "    check if there are 4 digits in a year value\n",
    "    \"\"\"\n",
    "    df_final['Year'] = df_final['Year'].str.findall('([0-9]{4})')\n",
    "    return df_final\n",
    "\n",
    "\n",
    "def list_to_str(x):\n",
    "    \"\"\"\n",
    "    conert extracted list values to a string\n",
    "    \"\"\"\n",
    "    try:\n",
    "        return ''.join(x)\n",
    "    except:\n",
    "        pass\n",
    "    return x\n",
    "\n",
    "df_final['Year'] = df_final['Year'].apply(lambda x: list_to_str(x))\n",
    "\n",
    "\n",
    "\n",
    "def check_numbers(x):\n",
    "    \"\"\"\n",
    "    check numerical values\n",
    "    \"\"\"\n",
    "    if type(x) == int or type(x) == float or len(x) == 4:\n",
    "        return x\n",
    "    else:\n",
    "        return ''\n",
    "\n",
    "df_final['Year'] = df_final['Year'].apply(lambda x: check_numbers(x))\n",
    "\n",
    "\n",
    "def convert_year(df_final):\n",
    "    \"\"\"\n",
    "    convert values to numeric, fill None with 0, convert to int\n",
    "    \"\"\"\n",
    "    df_final['Year'] = pd.to_numeric(df_final['Year'], errors = 'coerce')\n",
    "    df_final['Year'].fillna(0, inplace = True)\n",
    "    df_final['Year'] = df_final['Year'].apply(lambda x: int(x))\n",
    "    return df_final\n",
    "\n",
    "df_final = convert_year(df_final)"
   ]
  },
  {
   "cell_type": "markdown",
   "metadata": {},
   "source": [
    "4. From the columns Tower_height and Focal_height get only values that correspond to meters not foots, convert to int"
   ]
  },
  {
   "cell_type": "code",
   "execution_count": 335,
   "metadata": {},
   "outputs": [],
   "source": [
    "def get_tower_height(df_final):\n",
    "    \"\"\"extract the tower height numbers, fillna with 0, convert to int type\n",
    "    \"\"\"\n",
    "    df_final['Tower_height'] = df_final['Tower_height'].str.extract(r'(\\d+)')\n",
    "    df_final['Tower_height'].fillna(0, inplace = True)\n",
    "    df_final['Tower_height'] = df_final['Tower_height'].astype(int)\n",
    "    return df_final\n",
    "\n",
    "df_final = get_tower_height(df_final)"
   ]
  },
  {
   "cell_type": "code",
   "execution_count": 336,
   "metadata": {},
   "outputs": [],
   "source": [
    "def get_tower_height(df_final):\n",
    "    \"\"\"extract the tower height numbers, fillna with 0, convert to int type\n",
    "    \"\"\"\n",
    "    df_final['Focal_height'] = df_final['Focal_height'].str.extract(r'(\\d+)')\n",
    "    df_final['Focal_height'].fillna(0, inplace = True)\n",
    "    df_final['Focal_height'] = df_final['Focal_height'].astype(int)\n",
    "    return df_final\n",
    "\n",
    "df_final = get_tower_height(df_final)"
   ]
  },
  {
   "cell_type": "markdown",
   "metadata": {},
   "source": [
    "5. From the column Range get only values with km, convert to int"
   ]
  },
  {
   "cell_type": "code",
   "execution_count": 337,
   "metadata": {},
   "outputs": [],
   "source": [
    "def get_Range_values(df_final):\n",
    "    \"\"\"extract the tower height numbers, replace brakets with '', fillna with 0, convert to int type\n",
    "    \"\"\"\n",
    "    df_final['Range'] = df_final['Range'].str.extract(r'(\\(\\d+)')\n",
    "    df_final['Range'] = df_final['Range'].str.replace('(','')\n",
    "    df_final['Range'].fillna(0, inplace = True)\n",
    "    df_final['Range'] = df_final['Range'].astype(int)\n",
    "    return df_final\n",
    "\n",
    "df_final = get_Range_values(df_final)"
   ]
  },
  {
   "cell_type": "markdown",
   "metadata": {},
   "source": [
    "6. Clean the created coordinates column from anything except coordinates"
   ]
  },
  {
   "cell_type": "code",
   "execution_count": 355,
   "metadata": {},
   "outputs": [],
   "source": [
    "def coord(df_final):\n",
    "    \"\"\"\n",
    "    removes [digits] from a string\n",
    "    \"\"\"\n",
    "    df_final['Coordinates'] = df_final['Coordinates'].str.replace('(\\[\\d+])','')\n",
    "    df_final['Coordinates'] = df_final['Coordinates'].str.replace('--','')\n",
    "    df_final['Coordinates'] = df_final['Coordinates'].str.replace('(^[a-zA-Z]+)','')\n",
    "    return df_final\n",
    "\n",
    "df_final = coord(df_final)"
   ]
  },
  {
   "cell_type": "markdown",
   "metadata": {},
   "source": [
    "# Cleaned DataFrame"
   ]
  },
  {
   "cell_type": "code",
   "execution_count": 356,
   "metadata": {},
   "outputs": [
    {
     "data": {
      "text/html": [
       "<div>\n",
       "<style scoped>\n",
       "    .dataframe tbody tr th:only-of-type {\n",
       "        vertical-align: middle;\n",
       "    }\n",
       "\n",
       "    .dataframe tbody tr th {\n",
       "        vertical-align: top;\n",
       "    }\n",
       "\n",
       "    .dataframe thead th {\n",
       "        text-align: right;\n",
       "    }\n",
       "</style>\n",
       "<table border=\"1\" class=\"dataframe\">\n",
       "  <thead>\n",
       "    <tr style=\"text-align: right;\">\n",
       "      <th></th>\n",
       "      <th>Name</th>\n",
       "      <th>Year</th>\n",
       "      <th>Tower_height</th>\n",
       "      <th>Focal_height</th>\n",
       "      <th>Range</th>\n",
       "      <th>Location</th>\n",
       "      <th>Coordinates</th>\n",
       "    </tr>\n",
       "  </thead>\n",
       "  <tbody>\n",
       "    <tr>\n",
       "      <th>0</th>\n",
       "      <td>Anvil Point</td>\n",
       "      <td>1881</td>\n",
       "      <td>12</td>\n",
       "      <td>45</td>\n",
       "      <td>17</td>\n",
       "      <td>Anvil Point</td>\n",
       "      <td>50°35′31″N 1°57′36″W</td>\n",
       "    </tr>\n",
       "    <tr>\n",
       "      <th>1</th>\n",
       "      <td>Bamburgh</td>\n",
       "      <td>0</td>\n",
       "      <td>9</td>\n",
       "      <td>12</td>\n",
       "      <td>26</td>\n",
       "      <td>Bamburgh</td>\n",
       "      <td>55°37′0″N 1°43′27″W</td>\n",
       "    </tr>\n",
       "    <tr>\n",
       "      <th>2</th>\n",
       "      <td>Beachy Head</td>\n",
       "      <td>1902</td>\n",
       "      <td>43</td>\n",
       "      <td>31</td>\n",
       "      <td>15</td>\n",
       "      <td>Beachy Head</td>\n",
       "      <td>50°44′2″N 0°14′29″E</td>\n",
       "    </tr>\n",
       "    <tr>\n",
       "      <th>3</th>\n",
       "      <td>Berkeley Pill Front light</td>\n",
       "      <td>1937</td>\n",
       "      <td>8</td>\n",
       "      <td>5</td>\n",
       "      <td>0</td>\n",
       "      <td>Severn Estuary</td>\n",
       "      <td>51°41′59″N 2°29′24″W</td>\n",
       "    </tr>\n",
       "    <tr>\n",
       "      <th>4</th>\n",
       "      <td>Berkeley Pill Rear light</td>\n",
       "      <td>1937</td>\n",
       "      <td>12</td>\n",
       "      <td>11</td>\n",
       "      <td>0</td>\n",
       "      <td>Severn Estuary</td>\n",
       "      <td>51°41′54″N 2°29′25″W</td>\n",
       "    </tr>\n",
       "    <tr>\n",
       "      <th>5</th>\n",
       "      <td>Berry Head</td>\n",
       "      <td>1906</td>\n",
       "      <td>5</td>\n",
       "      <td>58</td>\n",
       "      <td>35</td>\n",
       "      <td>Berry Head</td>\n",
       "      <td>50°23′58″N 3°29′0″W</td>\n",
       "    </tr>\n",
       "    <tr>\n",
       "      <th>6</th>\n",
       "      <td>Berwick</td>\n",
       "      <td>1826</td>\n",
       "      <td>13</td>\n",
       "      <td>15</td>\n",
       "      <td>11</td>\n",
       "      <td>Berwick</td>\n",
       "      <td>55°45′53″N 1°59′7″W</td>\n",
       "    </tr>\n",
       "    <tr>\n",
       "      <th>7</th>\n",
       "      <td>Bishop Rock</td>\n",
       "      <td>0</td>\n",
       "      <td>49</td>\n",
       "      <td>44</td>\n",
       "      <td>37</td>\n",
       "      <td>Bishop Rock</td>\n",
       "      <td>49°52′18″N 6°26′42″W</td>\n",
       "    </tr>\n",
       "    <tr>\n",
       "      <th>8</th>\n",
       "      <td>Bull Point</td>\n",
       "      <td>1879</td>\n",
       "      <td>11</td>\n",
       "      <td>54</td>\n",
       "      <td>37</td>\n",
       "      <td>Mortehoe</td>\n",
       "      <td>51°11′57″N 4°12′4″W</td>\n",
       "    </tr>\n",
       "    <tr>\n",
       "      <th>9</th>\n",
       "      <td>Burnham-on-Sea Low</td>\n",
       "      <td>0</td>\n",
       "      <td>9</td>\n",
       "      <td>7</td>\n",
       "      <td>22</td>\n",
       "      <td>Burnham</td>\n",
       "      <td>51°14′54″N 3°0′21″W</td>\n",
       "    </tr>\n",
       "  </tbody>\n",
       "</table>\n",
       "</div>"
      ],
      "text/plain": [
       "                        Name  Year  Tower_height  Focal_height  Range  \\\n",
       "0               Anvil Point   1881            12            45     17   \n",
       "1                  Bamburgh      0             9            12     26   \n",
       "2               Beachy Head   1902            43            31     15   \n",
       "3  Berkeley Pill Front light  1937             8             5      0   \n",
       "4   Berkeley Pill Rear light  1937            12            11      0   \n",
       "5                Berry Head   1906             5            58     35   \n",
       "6                   Berwick   1826            13            15     11   \n",
       "7               Bishop Rock      0            49            44     37   \n",
       "8                Bull Point   1879            11            54     37   \n",
       "9        Burnham-on-Sea Low      0             9             7     22   \n",
       "\n",
       "         Location           Coordinates  \n",
       "0     Anvil Point  50°35′31″N 1°57′36″W  \n",
       "1        Bamburgh   55°37′0″N 1°43′27″W  \n",
       "2     Beachy Head   50°44′2″N 0°14′29″E  \n",
       "3  Severn Estuary  51°41′59″N 2°29′24″W  \n",
       "4  Severn Estuary  51°41′54″N 2°29′25″W  \n",
       "5      Berry Head   50°23′58″N 3°29′0″W  \n",
       "6         Berwick   55°45′53″N 1°59′7″W  \n",
       "7     Bishop Rock  49°52′18″N 6°26′42″W  \n",
       "8        Mortehoe   51°11′57″N 4°12′4″W  \n",
       "9         Burnham   51°14′54″N 3°0′21″W  "
      ]
     },
     "execution_count": 356,
     "metadata": {},
     "output_type": "execute_result"
    }
   ],
   "source": [
    "df_final.head(10)"
   ]
  },
  {
   "cell_type": "code",
   "execution_count": null,
   "metadata": {},
   "outputs": [],
   "source": []
  }
 ],
 "metadata": {
  "kernelspec": {
   "display_name": "Python 3",
   "language": "python",
   "name": "python3"
  },
  "language_info": {
   "codemirror_mode": {
    "name": "ipython",
    "version": 3
   },
   "file_extension": ".py",
   "mimetype": "text/x-python",
   "name": "python",
   "nbconvert_exporter": "python",
   "pygments_lexer": "ipython3",
   "version": "3.8.3"
  }
 },
 "nbformat": 4,
 "nbformat_minor": 4
}
